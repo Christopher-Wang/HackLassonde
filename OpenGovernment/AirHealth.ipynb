{
 "cells": [
  {
   "cell_type": "markdown",
   "metadata": {},
   "source": [
    "# This is an Analysis of mental health from a survey given by Kaggle on people in tech\n",
    "\n",
    "Data was taken from Open Government Data"
   ]
  },
  {
   "cell_type": "code",
   "execution_count": null,
   "metadata": {},
   "outputs": [],
   "source": [
    "import os\n",
    "import pandas as pd\n",
    "import numpy as np\n",
    "import matplotlib.pyplot as plt\n",
    "from sklearn.linear_model import LinearRegression"
   ]
  },
  {
   "cell_type": "code",
   "execution_count": null,
   "metadata": {},
   "outputs": [],
   "source": [
    "health_data = os.listdir(\"data/health\")\n",
    "env_data =  os.listdir(\"data/env\")\n",
    "health, env = [], []\n",
    "ozone, pm = {}, {}\n",
    "for csv in health_data:\n",
    "    health.append(pd.read_csv(\"data/health/\" + csv, names=[\"Year\",\"Age (%>65)\", \"Male\", \"Female\"], skiprows=1))\n",
    "for csv in env_data:\n",
    "    env.append(pd.read_csv(\"data/env/\" + csv, names=[\"Year\", \"Average (pbb)\", \"Peak (ppb)\"], skiprows=1))\n",
    "\n",
    "ozone['Health'] = health[0]\n",
    "pm['Health'] = health[1]\n",
    "ozone['Concentration'] = env[0].dropna()\n",
    "pm['Concentration'] = env[1].dropna()"
   ]
  },
  {
   "cell_type": "code",
   "execution_count": null,
   "metadata": {},
   "outputs": [],
   "source": [
    "def build_plot(data, name, field, column1, column2):\n",
    "    data.index = data['Year']\n",
    "    plt.rcParams['figure.figsize'] = [12, 6]\n",
    "    fig, ax = plt.subplots(nrows = 1, ncols = 1)\n",
    "    ax.plot(data.index, data[column1], label=column1)\n",
    "    ax.plot(data.index, data[column2], label=column2)                        \n",
    "\n",
    "    fig.autofmt_xdate()\n",
    "    ax.set_title(name)\n",
    "    ax.set_xlabel('Year')\n",
    "    ax.set_ylabel(field)\n",
    "    plt.legend(loc='best')    \n",
    "    plt.show()"
   ]
  },
  {
   "cell_type": "code",
   "execution_count": null,
   "metadata": {},
   "outputs": [],
   "source": [
    "build_plot(ozone[\"Health\"], \"Ozone Mortality\", \"Mortality\", \"Male\",\"Female\")\n",
    "build_plot(pm[\"Health\"], \"Particulate Matter Mortality\", \"Mortality\", \"Male\",\"Female\")\n",
    "\n",
    "build_plot(ozone[\"Concentration\"], \"Ozone Concentration\", \"Concentration (ppb)\",\"Average (pbb)\", \"Peak (ppb)\")\n",
    "build_plot(pm[\"Concentration\"], \"Particulate Matter Concentration\", \"Concentration (ppb)\",\"Average (pbb)\", \"Peak (ppb)\")"
   ]
  },
  {
   "cell_type": "code",
   "execution_count": null,
   "metadata": {},
   "outputs": [],
   "source": [
    "def get_predictions(data, column):\n",
    "    x = np.arange(len(data[\"Year\"]))\n",
    "    y = data[column]\n",
    "    model = LinearRegression(fit_intercept=True)\n",
    "    model.fit(x[:, np.newaxis], y)\n",
    "    xfit = np.arange(len(data[\"Year\"]))\n",
    "    yfit = model.predict(xfit[:, np.newaxis])\n",
    "    return data[\"Year\"], yfit\n",
    "\n",
    "def build_regression_plot(data, name, field, column1, column2):\n",
    "    plt.rcParams['figure.figsize'] = [12, 6]\n",
    "    fig, ax = plt.subplots(nrows = 1, ncols = 1)\n",
    "    xfit, yfit = get_predictions(data, column1)\n",
    "    ax.scatter(data[\"Year\"], data[column1])\n",
    "    ax.plot(xfit, yfit)\n",
    "    \n",
    "    xfit, yfit = get_predictions(data, column2)\n",
    "    ax.scatter(data[\"Year\"], data[column2])\n",
    "    ax.plot(xfit, yfit) \n",
    "\n",
    "    fig.autofmt_xdate()\n",
    "    ax.set_title(name)\n",
    "    ax.set_xlabel('Year')\n",
    "    ax.set_ylabel(field)\n",
    "    plt.legend(loc='best')    \n",
    "    plt.show()\n",
    "    \n",
    "def build_single_regression_plot(data, name, field, column):\n",
    "    plt.rcParams['figure.figsize'] = [12, 6]\n",
    "    fig, ax = plt.subplots(nrows = 1, ncols = 1)\n",
    "    xfit, yfit = get_predictions(data, column)\n",
    "    ax.scatter(data[\"Year\"], data[column])\n",
    "    ax.plot(xfit, yfit)\n",
    "    \n",
    "    fig.autofmt_xdate()\n",
    "    ax.set_title(name)\n",
    "    ax.set_xlabel('Year')\n",
    "    ax.set_ylabel(field)\n",
    "    plt.legend(loc='best')    \n",
    "    plt.show()"
   ]
  },
  {
   "cell_type": "code",
   "execution_count": null,
   "metadata": {},
   "outputs": [],
   "source": [
    "build_regression_plot(ozone[\"Health\"], \"Ozone\", \"Mortality\", \"Male\", \"Female\")\n",
    "build_regression_plot(pm[\"Health\"], \"Partculate Matter\", \"Mortality\", \"Male\", \"Female\")"
   ]
  },
  {
   "cell_type": "code",
   "execution_count": null,
   "metadata": {
    "scrolled": true
   },
   "outputs": [],
   "source": [
    "build_regression_plot(ozone[\"Concentration\"], \"Ozone Concentration\", \"Concentration (ppb)\",\"Average (pbb)\", \"Peak (ppb)\")\n",
    "build_regression_plot(pm[\"Concentration\"], \"Particulate Matter Concentration\", \"Concentration (ppb)\",\"Average (pbb)\", \"Peak (ppb)\")"
   ]
  },
  {
   "cell_type": "code",
   "execution_count": null,
   "metadata": {},
   "outputs": [],
   "source": [
    "build_single_regression_plot(ozone[\"Concentration\"], \"Ozone Concentration\", \"Concentration (ppb)\",\"Average (pbb)\")"
   ]
  }
 ],
 "metadata": {
  "kernelspec": {
   "display_name": "Python 3",
   "language": "python",
   "name": "python3"
  },
  "language_info": {
   "codemirror_mode": {
    "name": "ipython",
    "version": 3
   },
   "file_extension": ".py",
   "mimetype": "text/x-python",
   "name": "python",
   "nbconvert_exporter": "python",
   "pygments_lexer": "ipython3",
   "version": "3.6.3"
  }
 },
 "nbformat": 4,
 "nbformat_minor": 2
}
